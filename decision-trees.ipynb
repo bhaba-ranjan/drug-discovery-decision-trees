{
 "cells": [
  {
   "cell_type": "code",
   "execution_count": 57,
   "metadata": {
    "collapsed": true,
    "pycharm": {
     "name": "#%%\n"
    }
   },
   "outputs": [],
   "source": [
    "import numpy as np\n",
    "import pandas as pd\n",
    "import matplotlib.pyplot as plt"
   ]
  },
  {
   "cell_type": "code",
   "execution_count": 58,
   "outputs": [],
   "source": [
    "table = pd.read_table('./1663769555_8559356_train.txt', names=['binding','sequence'])"
   ],
   "metadata": {
    "collapsed": false,
    "pycharm": {
     "name": "#%%\n"
    }
   }
  },
  {
   "cell_type": "code",
   "execution_count": 107,
   "outputs": [],
   "source": [
    "from sklearn.feature_extraction.text import CountVectorizer\n",
    "def return_binary_vectorized_form(data_frame):\n",
    "    count_vectorizer = CountVectorizer(binary=True)\n",
    "    fitted_and_transformed = count_vectorizer.fit_transform(data_frame).toarray()\n",
    "    return count_vectorizer,  fitted_and_transformed"
   ],
   "metadata": {
    "collapsed": false,
    "pycharm": {
     "name": "#%%\n"
    }
   }
  },
  {
   "cell_type": "code",
   "execution_count": 127,
   "outputs": [],
   "source": [
    "from sklearn.feature_extraction.text import CountVectorizer\n",
    "def return_binary_vectorized_form_with_vocab(data_frame, vocab):\n",
    "    count_vectorizer = CountVectorizer(binary=True, vocabulary=vocab)\n",
    "    fitted_and_transformed = count_vectorizer.fit_transform(data_frame).toarray()\n",
    "    return count_vectorizer,  fitted_and_transformed"
   ],
   "metadata": {
    "collapsed": false,
    "pycharm": {
     "name": "#%%\n"
    }
   }
  },
  {
   "cell_type": "code",
   "execution_count": 60,
   "outputs": [],
   "source": [
    "from sklearn.feature_selection import SelectKBest, chi2\n",
    "def k_best_features(feature_set, target_values, fraction, feature_list):\n",
    "    select_bestselect_best = SelectKBest(score_func=chi2, k = int(len(feature_list)*fraction))\n",
    "    select_bestselect_best.fit(feature_set,target_values)\n",
    "    mask = select_bestselect_best.get_support()\n",
    "    k_best_featurs = feature_list[mask]\n",
    "    return k_best_featurs"
   ],
   "metadata": {
    "collapsed": false,
    "pycharm": {
     "name": "#%%\n"
    }
   }
  },
  {
   "cell_type": "code",
   "execution_count": 61,
   "outputs": [],
   "source": [
    "def collect_with_target_value(data_frame, column, target_value):\n",
    "    collected_values = data_frame.loc[data_frame[column] == target_value]\n",
    "    return collected_values"
   ],
   "metadata": {
    "collapsed": false,
    "pycharm": {
     "name": "#%%\n"
    }
   }
  },
  {
   "cell_type": "code",
   "execution_count": 62,
   "outputs": [],
   "source": [
    "def resample(data_frame, fraction):\n",
    "    sampled_df = pd.DataFrame.sample(data_frame,frac=fraction, random_state= np.random.RandomState())\n",
    "    return sampled_df"
   ],
   "metadata": {
    "collapsed": false,
    "pycharm": {
     "name": "#%%\n"
    }
   }
  },
  {
   "cell_type": "code",
   "execution_count": 256,
   "outputs": [],
   "source": [
    "active_df = collect_with_target_value(table, 'binding', 1)\n",
    "not_active_dfs = [resample(collect_with_target_value(table, 'binding',0), .105) for i in range(20)]"
   ],
   "metadata": {
    "collapsed": false,
    "pycharm": {
     "name": "#%%\n"
    }
   }
  },
  {
   "cell_type": "code",
   "execution_count": 259,
   "outputs": [],
   "source": [
    "balanced_dfs = [pd.concat([active_df,not_active_dfs[i]]).sample(frac=1).reset_index(drop=True)  for i in range(20)]"
   ],
   "metadata": {
    "collapsed": false,
    "pycharm": {
     "name": "#%%\n"
    }
   }
  },
  {
   "cell_type": "code",
   "execution_count": null,
   "outputs": [],
   "source": [],
   "metadata": {
    "collapsed": false,
    "pycharm": {
     "name": "#%%\n"
    }
   }
  },
  {
   "cell_type": "code",
   "execution_count": 264,
   "outputs": [
    {
     "data": {
      "text/plain": "[array(['100', '10007', '10008', ..., '9999', '99991', '99992'],\n       dtype=object),\n array(['100', '10000', '10012', ..., '99994', '99997', '99999'],\n       dtype=object),\n array(['10003', '10004', '10008', ..., '99997', '99998', '99999'],\n       dtype=object),\n array(['10', '10000', '100000', ..., '99990', '99996', '99998'],\n       dtype=object),\n array(['1000', '10000', '10003', ..., '99992', '99996', '99999'],\n       dtype=object),\n array(['10000', '10005', '10006', ..., '99996', '99997', '99999'],\n       dtype=object),\n array(['10002', '10004', '10005', ..., '99992', '99997', '99999'],\n       dtype=object),\n array(['10', '10000', '10004', ..., '99988', '99989', '99991'],\n       dtype=object),\n array(['10000', '10002', '10005', ..., '99991', '99992', '99998'],\n       dtype=object),\n array(['10002', '10005', '10008', ..., '99994', '99996', '99999'],\n       dtype=object),\n array(['100', '10002', '10003', ..., '99997', '99998', '99999'],\n       dtype=object),\n array(['10002', '10007', '10008', ..., '99997', '99998', '99999'],\n       dtype=object),\n array(['100', '10000', '10002', ..., '99996', '99998', '99999'],\n       dtype=object),\n array(['10000', '100000', '10002', ..., '99992', '99996', '99997'],\n       dtype=object),\n array(['10000', '10002', '10003', ..., '99992', '99996', '99999'],\n       dtype=object),\n array(['10004', '10008', '1001', ..., '99989', '99991', '99998'],\n       dtype=object),\n array(['100', '10000', '100000', ..., '99997', '99998', '99999'],\n       dtype=object),\n array(['10000', '10002', '10008', ..., '99996', '99998', '99999'],\n       dtype=object),\n array(['10000', '10002', '10004', ..., '99997', '99998', '99999'],\n       dtype=object),\n array(['10000', '10004', '10005', ..., '99992', '99994', '99999'],\n       dtype=object)]"
     },
     "execution_count": 264,
     "metadata": {},
     "output_type": "execute_result"
    }
   ],
   "source": [
    "balanced_and_transformed = [return_binary_vectorized_form(balanced_dfs[i]['sequence']) for i in range(20) ]\n",
    "k_best_feature = [k_best_features(balanced_and_transformed[i][1],balanced_dfs[i]['binding'],.50,balanced_and_transformed[i][0].get_feature_names_out()) for i in range(20)]\n",
    "# balanced_vectorizer, samples_balanced = return_binary_vectorized_form(balanced_df['sequence'])\n",
    "# k_best_feature = k_best_features(samples_balanced,balanced_df['binding'],.50,balanced_vectorizer.get_feature_names_out())\n",
    "# k_best_feature"
   ],
   "metadata": {
    "collapsed": false,
    "pycharm": {
     "name": "#%%\n"
    }
   }
  },
  {
   "cell_type": "code",
   "execution_count": 265,
   "outputs": [],
   "source": [
    "from sklearn.model_selection import train_test_split\n",
    "train_test = [ train_test_split(balanced_dfs[i]['sequence'],balanced_dfs[i]['binding'] ,train_size=.70, random_state=0) for i in range(20)]"
   ],
   "metadata": {
    "collapsed": false,
    "pycharm": {
     "name": "#%%\n"
    }
   }
  },
  {
   "cell_type": "code",
   "execution_count": 282,
   "outputs": [],
   "source": [
    "train_features = [return_binary_vectorized_form_with_vocab(train_test[i][0],k_best_feature[i]) for i in range(20)]\n",
    "test_transformed = [train_features[i][0].transform(train_test[i][1]) for i in range(20)]"
   ],
   "metadata": {
    "collapsed": false,
    "pycharm": {
     "name": "#%%\n"
    }
   }
  },
  {
   "cell_type": "code",
   "execution_count": 284,
   "outputs": [],
   "source": [
    "# y_predict = bag_clf.predict(x_test_features)\n",
    "from sklearn.ensemble import BaggingClassifier\n",
    "from sklearn.tree import DecisionTreeClassifier\n",
    "from sklearn.metrics import  accuracy_score\n",
    "\n",
    "bag_clf = [BaggingClassifier(DecisionTreeClassifier(criterion='gini'),n_estimators=500, max_samples=100,random_state=np.random.RandomState(), n_jobs=2) for i in range(20)]\n",
    "fit_clf = [bag_clf[i].fit(train_features[i][1], train_test[i][2]) for i in range(20)]\n",
    "predict_test = [ bag_clf[i].predict(test_transformed[i]) for i in range(20)]\n",
    "accuracy_score = [ accuracy_score(predict_test[i], train_test[i][3]) for i in range(20)]"
   ],
   "metadata": {
    "collapsed": false,
    "pycharm": {
     "name": "#%%\n"
    }
   }
  },
  {
   "cell_type": "code",
   "execution_count": 285,
   "outputs": [
    {
     "data": {
      "text/plain": "[0.7446808510638298,\n 0.7872340425531915,\n 0.723404255319149,\n 0.851063829787234,\n 0.723404255319149,\n 0.7659574468085106,\n 0.8085106382978723,\n 0.8297872340425532,\n 0.8085106382978723,\n 0.7659574468085106,\n 0.7446808510638298,\n 0.8297872340425532,\n 0.8297872340425532,\n 0.7872340425531915,\n 0.8085106382978723,\n 0.7659574468085106,\n 0.8085106382978723,\n 0.8297872340425532,\n 0.7446808510638298,\n 0.7446808510638298]"
     },
     "execution_count": 285,
     "metadata": {},
     "output_type": "execute_result"
    }
   ],
   "source": [
    "# for i in range(20):\n",
    "#     for j in range(len(predict_test[i])):\n"
   ],
   "metadata": {
    "collapsed": false,
    "pycharm": {
     "name": "#%%\n"
    }
   }
  },
  {
   "cell_type": "code",
   "execution_count": 241,
   "outputs": [],
   "source": [
    "table_test = pd.read_table('./1663769555_8653905_test.txt', names=['sequence'])\n",
    "test_features = vectorizer.transform(table_test['sequence']).toarray()"
   ],
   "metadata": {
    "collapsed": false,
    "pycharm": {
     "name": "#%%\n"
    }
   }
  },
  {
   "cell_type": "code",
   "execution_count": 242,
   "outputs": [
    {
     "data": {
      "text/plain": "array([[0, 0, 0, ..., 0, 0, 0],\n       [0, 0, 0, ..., 0, 0, 0],\n       [0, 0, 0, ..., 0, 0, 0],\n       ...,\n       [0, 0, 0, ..., 0, 0, 0],\n       [0, 0, 0, ..., 0, 0, 0],\n       [0, 0, 0, ..., 0, 0, 0]])"
     },
     "execution_count": 242,
     "metadata": {},
     "output_type": "execute_result"
    }
   ],
   "source": [
    "test_features"
   ],
   "metadata": {
    "collapsed": false,
    "pycharm": {
     "name": "#%%\n"
    }
   }
  },
  {
   "cell_type": "code",
   "execution_count": 243,
   "outputs": [],
   "source": [
    "y_predict_unlabled = bag_clf.predict(test_features)"
   ],
   "metadata": {
    "collapsed": false,
    "pycharm": {
     "name": "#%%\n"
    }
   }
  },
  {
   "cell_type": "code",
   "execution_count": 244,
   "outputs": [],
   "source": [
    "import csv\n",
    "outfile = open('./results.csv','w')\n",
    "out = csv.writer(outfile)\n",
    "out.writerows(map(lambda x: [x], y_predict_unlabled))\n",
    "outfile.close()"
   ],
   "metadata": {
    "collapsed": false,
    "pycharm": {
     "name": "#%%\n"
    }
   }
  },
  {
   "cell_type": "code",
   "execution_count": null,
   "outputs": [],
   "source": [],
   "metadata": {
    "collapsed": false,
    "pycharm": {
     "name": "#%%\n"
    }
   }
  }
 ],
 "metadata": {
  "kernelspec": {
   "display_name": "Python 3",
   "language": "python",
   "name": "python3"
  },
  "language_info": {
   "codemirror_mode": {
    "name": "ipython",
    "version": 2
   },
   "file_extension": ".py",
   "mimetype": "text/x-python",
   "name": "python",
   "nbconvert_exporter": "python",
   "pygments_lexer": "ipython2",
   "version": "2.7.6"
  }
 },
 "nbformat": 4,
 "nbformat_minor": 0
}