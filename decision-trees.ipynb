{
 "cells": [
  {
   "cell_type": "code",
   "execution_count": 1,
   "metadata": {
    "collapsed": true,
    "pycharm": {
     "name": "#%%\n"
    }
   },
   "outputs": [],
   "source": [
    "import numpy as np\n",
    "import pandas as pd\n",
    "import matplotlib.pyplot as plt"
   ]
  },
  {
   "cell_type": "code",
   "execution_count": 2,
   "outputs": [],
   "source": [
    "table = pd.read_table('./1663769555_8559356_train.txt', names=['binding','sequence'])"
   ],
   "metadata": {
    "collapsed": false,
    "pycharm": {
     "name": "#%%\n"
    }
   }
  },
  {
   "cell_type": "code",
   "execution_count": 72,
   "outputs": [],
   "source": [
    "from sklearn.feature_extraction.text import CountVectorizer\n",
    "def return_binary_vectorized_form(data_frame):\n",
    "    count_vectorizer = CountVectorizer(binary=True)\n",
    "    fitted_and_transformed = count_vectorizer.fit_transform(data_frame).toarray()\n",
    "    return count_vectorizer,  fitted_and_transformed"
   ],
   "metadata": {
    "collapsed": false,
    "pycharm": {
     "name": "#%%\n"
    }
   }
  },
  {
   "cell_type": "code",
   "execution_count": 73,
   "outputs": [],
   "source": [
    "from sklearn.feature_extraction.text import CountVectorizer\n",
    "def return_binary_vectorized_form_with_vocab(data_frame, vocab):\n",
    "    count_vectorizer = CountVectorizer(binary=True, vocabulary=vocab)\n",
    "    fitted_and_transformed = count_vectorizer.fit_transform(data_frame).toarray()\n",
    "    return count_vectorizer,  fitted_and_transformed"
   ],
   "metadata": {
    "collapsed": false,
    "pycharm": {
     "name": "#%%\n"
    }
   }
  },
  {
   "cell_type": "code",
   "execution_count": 74,
   "outputs": [],
   "source": [
    "from sklearn.feature_selection import SelectKBest, chi2\n",
    "def select_k_best_features(feature_set, target_values, fraction, feature_list):\n",
    "    select_bestselect_best = SelectKBest(score_func=chi2, k = int(len(feature_list)*fraction))\n",
    "    select_bestselect_best.fit(feature_set,target_values)\n",
    "    mask = select_bestselect_best.get_support()\n",
    "    k_best_featurs = feature_list[mask]\n",
    "    return k_best_featurs"
   ],
   "metadata": {
    "collapsed": false,
    "pycharm": {
     "name": "#%%\n"
    }
   }
  },
  {
   "cell_type": "code",
   "execution_count": 75,
   "outputs": [],
   "source": [
    "def collect_with_target_value(data_frame, column, target_value):\n",
    "    collected_values = data_frame.loc[data_frame[column] == target_value]\n",
    "    return collected_values"
   ],
   "metadata": {
    "collapsed": false,
    "pycharm": {
     "name": "#%%\n"
    }
   }
  },
  {
   "cell_type": "code",
   "execution_count": 76,
   "outputs": [],
   "source": [
    "def resample(data_frame, fraction):\n",
    "    sampled_df = pd.DataFrame.sample(data_frame,frac=fraction, random_state= np.random.RandomState())\n",
    "    return sampled_df"
   ],
   "metadata": {
    "collapsed": false,
    "pycharm": {
     "name": "#%%\n"
    }
   }
  },
  {
   "cell_type": "code",
   "execution_count": 77,
   "outputs": [],
   "source": [
    "active_df = collect_with_target_value(table, 'binding', 1)\n",
    "not_active_dfs = collect_with_target_value(table, 'binding',0)"
   ],
   "metadata": {
    "collapsed": false,
    "pycharm": {
     "name": "#%%\n"
    }
   }
  },
  {
   "cell_type": "code",
   "execution_count": 78,
   "outputs": [],
   "source": [
    "not_active_dfs = not_active_dfs.reset_index()\n",
    "active_df = active_df.reset_index()"
   ],
   "metadata": {
    "collapsed": false,
    "pycharm": {
     "name": "#%%\n"
    }
   }
  },
  {
   "cell_type": "code",
   "execution_count": 91,
   "outputs": [
    {
     "name": "stdout",
     "output_type": "stream",
     "text": [
      "[(0.9586052589185029, 0.8429394812680115, 0.8782801879100972, None), (0.9586052589185029, 0.8429394812680115, 0.8782801879100972, None), (0.9584825786058355, 0.840057636887608, 0.8762265710279807, None), (0.9602755610789547, 0.8386167146974063, 0.8752093507587534, None), (0.9602755610789547, 0.8386167146974063, 0.8752093507587534, None), (0.9606366718767809, 0.8472622478386167, 0.8813882203116825, None), (0.9735812793299494, 0.968299711815562, 0.969996798594175, None)]\n",
      "[(0.9583721551717911, 0.7838616714697406, 0.835530395299016, None), (0.9592581458928734, 0.8112391930835735, 0.8555078671119986, None), (0.9647398090282918, 0.9293948126801153, 0.9400283314648911, None), (0.9730091156015549, 0.9668587896253602, 0.9688122735853069, None)]\n",
      "[(0.9578468492238785, 0.8242074927953891, 0.8648926877256986, None), (0.9597194656605814, 0.8242074927953891, 0.8648693632249133, None), (0.9597194656605814, 0.8242074927953891, 0.8648693632249133, None), (0.9596140771080207, 0.8213256484149856, 0.862793961584245, None), (0.9596140771080207, 0.8213256484149856, 0.862793961584245, None), (0.9735812793299494, 0.968299711815562, 0.969996798594175, None)]\n",
      "[(0.9599910561405112, 0.8314121037463977, 0.8700466397335156, None), (0.9599910561405112, 0.8314121037463977, 0.8700466397335156, None), (0.9599357598683124, 0.829971181556196, 0.8690124103709501, None), (0.9599357598683124, 0.829971181556196, 0.8690124103709501, None), (0.9735812793299494, 0.968299711815562, 0.969996798594175, None)]\n",
      "[(0.957041504501025, 0.7377521613832853, 0.8010718869966733, None), (0.9569622369971563, 0.7348703170028819, 0.7988797152943898, None), (0.9569622369971563, 0.7348703170028819, 0.7988797152943898, None), (0.9569622369971563, 0.7348703170028819, 0.7988797152943898, None), (0.9569227121237645, 0.7334293948126801, 0.7977818125479492, None), (0.9582441919946517, 0.8342939481268011, 0.872113242369117, None), (0.9741893138860367, 0.9697406340057637, 0.9711899916448011, None)]\n",
      "[(0.9567206995160884, 0.792507204610951, 0.8419676929108836, None), (0.9567206995160884, 0.792507204610951, 0.8419676929108836, None), (0.9603242372456041, 0.877521613832853, 0.9028270467541498, None), (0.9657455771693884, 0.9365994236311239, 0.945352222854721, None), (0.9735812793299494, 0.968299711815562, 0.969996798594175, None)]\n",
      "[(0.959014814922596, 0.8040345821325648, 0.8502806515188405, None), (0.9603933884417656, 0.8414985590778098, 0.8772707994967177, None), (0.9641138220860684, 0.9063400576368876, 0.9235169952075697, None), (0.9724696533053881, 0.9654178674351584, 0.967635988831749, None), (0.9748368112218325, 0.9711815561959655, 0.9723923069018932, None), (0.9748368112218325, 0.9711815561959655, 0.9723923069018932, None)]\n",
      "[(0.9619135100801666, 0.8328530259365994, 0.871066003270339, None), (0.9619135100801666, 0.8328530259365994, 0.871066003270339, None), (0.9623646420192931, 0.8443804034582133, 0.879342572942321, None), (0.9642207685244533, 0.8443804034582133, 0.8793432959584694, None), (0.9646992115760674, 0.8559077809798271, 0.8876190687187971, None), (0.9629243190258311, 0.8573487031700289, 0.8886219961719964, None), (0.9741893138860367, 0.9697406340057637, 0.9711899916448011, None)]\n",
      "[(0.9608850970198355, 0.8517985611510791, 0.8846462956855381, None), (0.9608850970198355, 0.8517985611510791, 0.8846462956855381, None), (0.9640479711979077, 0.9050359712230216, 0.9225958989488848, None), (0.9640479711979077, 0.9050359712230216, 0.9225958989488848, None), (0.9730481585618626, 0.9669064748201439, 0.9688572949626503, None)]\n",
      "[(0.9655207671489958, 0.920863309352518, 0.9340367413695508, None), (0.9655207671489958, 0.920863309352518, 0.9340367413695508, None), (0.9655207671489958, 0.920863309352518, 0.9340367413695508, None), (0.9689181863811277, 0.9453237410071943, 0.9521968076726912, None), (0.9700545532623275, 0.9510791366906475, 0.9566075407043856, None), (0.9730481585618626, 0.9669064748201439, 0.9688572949626503, None)]\n",
      "[(0.9581917010475017, 0.8316546762589928, 0.8702506713756103, None), (0.9581917010475017, 0.8316546762589928, 0.8702506713756103, None), (0.9601071523733394, 0.8330935251798561, 0.8712762633173, None), (0.9599796868387643, 0.8705035971223022, 0.897873003203457, None), (0.9605536276155369, 0.8805755395683453, 0.9050120231589159, None), (0.9622739220408386, 0.9050359712230216, 0.9224165974036493, None), (0.9736194754603557, 0.9683453237410072, 0.970040092876832, None)]\n",
      "[(0.9584849706707899, 0.8388489208633093, 0.8753880260662907, None), (0.9633219739997475, 0.9165467625899281, 0.9306892808098346, None), (0.9648024758363453, 0.9136690647482014, 0.928816135879138, None), (0.9672929532961652, 0.935251798561151, 0.9446230207169103, None), (0.9742266117149032, 0.9697841726618706, 0.971231547978031, None)]\n",
      "[(0.9590683845826211, 0.7352517985611511, 0.7989785545545876, None), (0.9590683845826211, 0.7352517985611511, 0.7989785545545876, None), (0.9590683845826211, 0.7352517985611511, 0.7989785545545876, None), (0.9590683845826211, 0.7352517985611511, 0.7989785545545876, None), (0.9601321967635974, 0.7755395683453238, 0.8292803425684195, None), (0.959941600073847, 0.8287769784172662, 0.8681786536529059, None), (0.959941600073847, 0.8287769784172662, 0.8681786536529059, None), (0.9599962779946226, 0.8302158273381295, 0.8692117803336634, None), (0.9736194754603557, 0.9683453237410072, 0.970040092876832, None)]\n",
      "[(0.9604529576922103, 0.841726618705036, 0.8774566730950245, None), (0.9603938612712082, 0.8402877697841726, 0.8764278681815773, None), (0.9603938612712082, 0.8402877697841726, 0.8764278681815773, None), (0.9603938612712082, 0.8402877697841726, 0.8764278681815773, None), (0.9640479711979077, 0.9050359712230216, 0.9225958989488848, None), (0.9640479711979077, 0.9050359712230216, 0.9225958989488848, None), (0.9736194754603557, 0.9683453237410072, 0.970040092876832, None)]\n"
     ]
    }
   ],
   "source": [
    "from sklearn.model_selection import KFold, train_test_split\n",
    "from sklearn.tree import DecisionTreeClassifier\n",
    "from sklearn.metrics import  precision_recall_fscore_support\n",
    "kf = KFold(n_splits=14)\n",
    "for train_index, test_index in kf.split(not_active_dfs.binding):\n",
    "    # print(train_index)\n",
    "    not_active_sequence_test, not_active_sequence_train = not_active_dfs.sequence.loc[train_index],not_active_dfs.sequence.loc[test_index]\n",
    "    not_active_binding_test, not_active_binding_train = not_active_dfs.binding.loc[train_index],not_active_dfs.binding.loc[test_index]\n",
    "    active_sequence_train, active_sequence_test, active_binding_train, active_binding_test = train_test_split(active_df['sequence'],active_df['binding'], shuffle=True, train_size=.70, random_state=0)\n",
    "    combinded_train_sequence = pd.concat([not_active_sequence_train, active_sequence_train])\n",
    "    combinded_train_binding = pd.concat([not_active_binding_train, active_binding_train])\n",
    "    combined_test_sequence = pd.concat([not_active_sequence_test, active_sequence_test])\n",
    "    combined_test_binding = pd.concat([not_active_binding_test, active_binding_test])\n",
    "    vectorizer, combined_features = return_binary_vectorized_form(combinded_train_sequence)\n",
    "    k_best_features = select_k_best_features(combined_features, combinded_train_binding, 0.25, vectorizer.get_feature_names_out())\n",
    "    final_vectorizer ,final_train_data = return_binary_vectorized_form_with_vocab(combinded_train_sequence, k_best_features)\n",
    "    final_test_data = final_vectorizer.transform(combined_test_sequence)\n",
    "    dt_clf = DecisionTreeClassifier(criterion='gini')\n",
    "    path = dt_clf.cost_complexity_pruning_path(final_train_data, combinded_train_binding)\n",
    "    alphas, impurity = path.ccp_alphas, path.impurities\n",
    "    alphas = alphas[:-1]\n",
    "    clfs = []\n",
    "    for alpha in alphas:\n",
    "        d_tree = DecisionTreeClassifier(criterion='gini',random_state=0, ccp_alpha=alpha)\n",
    "        d_tree.fit(final_train_data, combinded_train_binding)\n",
    "        clfs.append(d_tree)\n",
    "    score = []\n",
    "    for tree in clfs:\n",
    "        predict = tree.predict(final_test_data)\n",
    "        score.append(precision_recall_fscore_support(combined_test_binding,predict,average='weighted',beta=1.2))\n",
    "    print(score)"
   ],
   "metadata": {
    "collapsed": false,
    "pycharm": {
     "name": "#%%\n"
    }
   }
  },
  {
   "cell_type": "code",
   "execution_count": 86,
   "outputs": [
    {
     "data": {
      "text/plain": "array([0.        , 0.0184127 , 0.01865889, 0.02539683, 0.03512262,\n       0.03778073, 0.05012531, 0.16371882])"
     },
     "execution_count": 86,
     "metadata": {},
     "output_type": "execute_result"
    }
   ],
   "source": [],
   "metadata": {
    "collapsed": false,
    "pycharm": {
     "name": "#%%\n"
    }
   }
  },
  {
   "cell_type": "code",
   "execution_count": 10,
   "outputs": [],
   "source": [
    "balanced_and_transformed = [return_binary_vectorized_form(balanced_dfs[i]['sequence']) for i in range(20) ]\n",
    "k_best_feature = [k_best_features(balanced_and_transformed[i][1],balanced_dfs[i]['binding'],.80,balanced_and_transformed[i][0].get_feature_names_out()) for i in range(20)]\n",
    "# balanced_vectorizer, samples_balanced = return_binary_vectorized_form(balanced_df['sequence'])\n",
    "# k_best_feature = k_best_features(samples_balanced,balanced_df['binding'],.50,balanced_vectorizer.get_feature_names_out())\n",
    "# k_best_feature"
   ],
   "metadata": {
    "collapsed": false,
    "pycharm": {
     "name": "#%%\n"
    }
   }
  },
  {
   "cell_type": "code",
   "execution_count": 11,
   "outputs": [],
   "source": [
    "from sklearn.model_selection import train_test_split\n",
    "train_test = [ train_test_split(balanced_dfs[i]['sequence'],balanced_dfs[i]['binding'] ,train_size=.70, random_state=0) for i in range(20)]"
   ],
   "metadata": {
    "collapsed": false,
    "pycharm": {
     "name": "#%%\n"
    }
   }
  },
  {
   "cell_type": "code",
   "execution_count": 12,
   "outputs": [],
   "source": [
    "train_features = [return_binary_vectorized_form_with_vocab(train_test[i][0],k_best_feature[i]) for i in range(20)]\n",
    "test_transformed = [train_features[i][0].transform(train_test[i][1]) for i in range(20)]"
   ],
   "metadata": {
    "collapsed": false,
    "pycharm": {
     "name": "#%%\n"
    }
   }
  },
  {
   "cell_type": "code",
   "execution_count": 13,
   "outputs": [],
   "source": [
    "# y_predict = bag_clf.predict(x_test_features)\n",
    "from sklearn.ensemble import BaggingClassifier\n",
    "from sklearn.tree import DecisionTreeClassifier\n",
    "\n",
    "bag_clf = [DecisionTreeClassifier(criterion='gini') for i in range(20)]\n",
    "alpha_clf = [(bag_clf[i].cost_complexity_pruning_path(train_features[i][1], train_test[i][1])) for i in range(20)]\n",
    "fit_clf = [ bag_clf[i].fit(train_features[i][1], train_test[i][2]) for i in range(20)]\n",
    "predict_test = [ bag_clf[i].predict(test_transformed[i]) for i in range(20)]"
   ],
   "metadata": {
    "collapsed": false,
    "pycharm": {
     "name": "#%%\n"
    }
   }
  },
  {
   "cell_type": "code",
   "execution_count": 14,
   "outputs": [],
   "source": [
    "from sklearn.metrics import accuracy_score\n",
    "accuracy_score = [ accuracy_score(predict_test[i], train_test[i][3]) for i in range(20)]"
   ],
   "metadata": {
    "collapsed": false,
    "pycharm": {
     "name": "#%%\n"
    }
   }
  },
  {
   "cell_type": "code",
   "execution_count": 15,
   "outputs": [
    {
     "data": {
      "text/plain": "[0.6808510638297872,\n 0.6808510638297872,\n 0.6808510638297872,\n 0.6595744680851063,\n 0.7872340425531915,\n 0.7872340425531915,\n 0.574468085106383,\n 0.7446808510638298,\n 0.8085106382978723,\n 0.6382978723404256,\n 0.723404255319149,\n 0.8297872340425532,\n 0.6808510638297872,\n 0.723404255319149,\n 0.8085106382978723,\n 0.7021276595744681,\n 0.723404255319149,\n 0.7021276595744681,\n 0.7659574468085106,\n 0.7446808510638298]"
     },
     "execution_count": 15,
     "metadata": {},
     "output_type": "execute_result"
    }
   ],
   "source": [],
   "metadata": {
    "collapsed": false,
    "pycharm": {
     "name": "#%%\n"
    }
   }
  },
  {
   "cell_type": "code",
   "execution_count": 437,
   "outputs": [],
   "source": [
    "predictions = pd.DataFrame(np.array(predict_test))"
   ],
   "metadata": {
    "collapsed": false,
    "pycharm": {
     "name": "#%%\n"
    }
   }
  },
  {
   "cell_type": "code",
   "execution_count": 438,
   "outputs": [],
   "source": [
    "table_test = pd.read_table('./1663769555_8653905_test.txt', names=['sequence'])"
   ],
   "metadata": {
    "collapsed": false,
    "pycharm": {
     "name": "#%%\n"
    }
   }
  },
  {
   "cell_type": "code",
   "execution_count": 439,
   "outputs": [],
   "source": [
    "unlabled_test_transformed = [train_features[i][0].transform(table_test.sequence) for i in range(20)]"
   ],
   "metadata": {
    "collapsed": false,
    "pycharm": {
     "name": "#%%\n"
    }
   }
  },
  {
   "cell_type": "code",
   "execution_count": 440,
   "outputs": [],
   "source": [
    "unlabled_predict_test = [ bag_clf[i].predict(unlabled_test_transformed[i]) for i in range(20)]"
   ],
   "metadata": {
    "collapsed": false,
    "pycharm": {
     "name": "#%%\n"
    }
   }
  },
  {
   "cell_type": "code",
   "execution_count": 441,
   "outputs": [],
   "source": [
    "unlabled_predict_test = np.array(unlabled_predict_test)"
   ],
   "metadata": {
    "collapsed": false,
    "pycharm": {
     "name": "#%%\n"
    }
   }
  },
  {
   "cell_type": "code",
   "execution_count": 442,
   "outputs": [
    {
     "data": {
      "text/plain": "    0    1    2    3    4    5    6    7    8    9    ...  340  341  342  343  \\\n0     0    0    0    0    0    0    0    0    0    1  ...    0    0    0    0   \n1     0    0    0    0    0    0    0    0    0    1  ...    0    0    0    0   \n2     0    0    0    0    0    0    0    0    0    1  ...    0    0    0    0   \n3     0    0    0    0    0    0    0    0    0    1  ...    0    0    0    0   \n4     0    0    0    0    0    0    0    0    0    1  ...    0    0    0    0   \n5     0    0    0    0    0    0    0    0    0    1  ...    0    0    0    0   \n6     0    0    0    0    0    0    0    0    0    1  ...    0    0    0    0   \n7     0    0    0    0    0    0    0    0    0    1  ...    0    0    0    0   \n8     0    0    0    0    0    0    0    0    0    1  ...    0    0    0    0   \n9     0    0    0    0    0    0    0    0    0    1  ...    0    0    0    0   \n10    0    0    0    0    0    0    0    0    0    1  ...    0    0    0    0   \n11    0    0    0    0    0    0    0    0    0    1  ...    0    0    0    0   \n12    0    0    0    0    0    0    0    0    0    1  ...    0    0    0    0   \n13    0    0    0    0    0    0    0    0    0    1  ...    0    0    0    0   \n14    0    0    0    0    0    0    0    0    0    1  ...    0    0    0    0   \n15    0    0    0    0    0    0    0    0    0    1  ...    0    0    0    0   \n16    0    0    0    0    0    0    0    0    0    1  ...    0    0    0    0   \n17    0    0    0    0    0    0    0    0    0    1  ...    0    0    0    0   \n18    0    0    0    0    0    0    0    0    0    1  ...    0    0    0    0   \n19    0    0    0    0    0    0    0    0    0    1  ...    0    0    0    0   \n\n    344  345  346  347  348  349  \n0     0    0    0    0    0    0  \n1     0    0    0    0    1    0  \n2     0    0    0    0    1    0  \n3     0    0    0    0    1    0  \n4     0    0    0    0    0    0  \n5     0    0    0    0    1    0  \n6     0    0    0    0    1    0  \n7     0    0    0    0    1    0  \n8     0    0    0    0    1    0  \n9     0    0    0    0    1    0  \n10    0    0    0    0    1    0  \n11    0    0    0    0    1    0  \n12    0    0    0    0    1    0  \n13    0    0    0    0    0    0  \n14    0    0    0    0    1    0  \n15    0    0    0    0    1    0  \n16    0    0    0    0    1    0  \n17    0    0    0    0    1    0  \n18    0    0    0    0    1    0  \n19    0    0    0    0    1    0  \n\n[20 rows x 350 columns]",
      "text/html": "<div>\n<style scoped>\n    .dataframe tbody tr th:only-of-type {\n        vertical-align: middle;\n    }\n\n    .dataframe tbody tr th {\n        vertical-align: top;\n    }\n\n    .dataframe thead th {\n        text-align: right;\n    }\n</style>\n<table border=\"1\" class=\"dataframe\">\n  <thead>\n    <tr style=\"text-align: right;\">\n      <th></th>\n      <th>0</th>\n      <th>1</th>\n      <th>2</th>\n      <th>3</th>\n      <th>4</th>\n      <th>5</th>\n      <th>6</th>\n      <th>7</th>\n      <th>8</th>\n      <th>9</th>\n      <th>...</th>\n      <th>340</th>\n      <th>341</th>\n      <th>342</th>\n      <th>343</th>\n      <th>344</th>\n      <th>345</th>\n      <th>346</th>\n      <th>347</th>\n      <th>348</th>\n      <th>349</th>\n    </tr>\n  </thead>\n  <tbody>\n    <tr>\n      <th>0</th>\n      <td>0</td>\n      <td>0</td>\n      <td>0</td>\n      <td>0</td>\n      <td>0</td>\n      <td>0</td>\n      <td>0</td>\n      <td>0</td>\n      <td>0</td>\n      <td>1</td>\n      <td>...</td>\n      <td>0</td>\n      <td>0</td>\n      <td>0</td>\n      <td>0</td>\n      <td>0</td>\n      <td>0</td>\n      <td>0</td>\n      <td>0</td>\n      <td>0</td>\n      <td>0</td>\n    </tr>\n    <tr>\n      <th>1</th>\n      <td>0</td>\n      <td>0</td>\n      <td>0</td>\n      <td>0</td>\n      <td>0</td>\n      <td>0</td>\n      <td>0</td>\n      <td>0</td>\n      <td>0</td>\n      <td>1</td>\n      <td>...</td>\n      <td>0</td>\n      <td>0</td>\n      <td>0</td>\n      <td>0</td>\n      <td>0</td>\n      <td>0</td>\n      <td>0</td>\n      <td>0</td>\n      <td>1</td>\n      <td>0</td>\n    </tr>\n    <tr>\n      <th>2</th>\n      <td>0</td>\n      <td>0</td>\n      <td>0</td>\n      <td>0</td>\n      <td>0</td>\n      <td>0</td>\n      <td>0</td>\n      <td>0</td>\n      <td>0</td>\n      <td>1</td>\n      <td>...</td>\n      <td>0</td>\n      <td>0</td>\n      <td>0</td>\n      <td>0</td>\n      <td>0</td>\n      <td>0</td>\n      <td>0</td>\n      <td>0</td>\n      <td>1</td>\n      <td>0</td>\n    </tr>\n    <tr>\n      <th>3</th>\n      <td>0</td>\n      <td>0</td>\n      <td>0</td>\n      <td>0</td>\n      <td>0</td>\n      <td>0</td>\n      <td>0</td>\n      <td>0</td>\n      <td>0</td>\n      <td>1</td>\n      <td>...</td>\n      <td>0</td>\n      <td>0</td>\n      <td>0</td>\n      <td>0</td>\n      <td>0</td>\n      <td>0</td>\n      <td>0</td>\n      <td>0</td>\n      <td>1</td>\n      <td>0</td>\n    </tr>\n    <tr>\n      <th>4</th>\n      <td>0</td>\n      <td>0</td>\n      <td>0</td>\n      <td>0</td>\n      <td>0</td>\n      <td>0</td>\n      <td>0</td>\n      <td>0</td>\n      <td>0</td>\n      <td>1</td>\n      <td>...</td>\n      <td>0</td>\n      <td>0</td>\n      <td>0</td>\n      <td>0</td>\n      <td>0</td>\n      <td>0</td>\n      <td>0</td>\n      <td>0</td>\n      <td>0</td>\n      <td>0</td>\n    </tr>\n    <tr>\n      <th>5</th>\n      <td>0</td>\n      <td>0</td>\n      <td>0</td>\n      <td>0</td>\n      <td>0</td>\n      <td>0</td>\n      <td>0</td>\n      <td>0</td>\n      <td>0</td>\n      <td>1</td>\n      <td>...</td>\n      <td>0</td>\n      <td>0</td>\n      <td>0</td>\n      <td>0</td>\n      <td>0</td>\n      <td>0</td>\n      <td>0</td>\n      <td>0</td>\n      <td>1</td>\n      <td>0</td>\n    </tr>\n    <tr>\n      <th>6</th>\n      <td>0</td>\n      <td>0</td>\n      <td>0</td>\n      <td>0</td>\n      <td>0</td>\n      <td>0</td>\n      <td>0</td>\n      <td>0</td>\n      <td>0</td>\n      <td>1</td>\n      <td>...</td>\n      <td>0</td>\n      <td>0</td>\n      <td>0</td>\n      <td>0</td>\n      <td>0</td>\n      <td>0</td>\n      <td>0</td>\n      <td>0</td>\n      <td>1</td>\n      <td>0</td>\n    </tr>\n    <tr>\n      <th>7</th>\n      <td>0</td>\n      <td>0</td>\n      <td>0</td>\n      <td>0</td>\n      <td>0</td>\n      <td>0</td>\n      <td>0</td>\n      <td>0</td>\n      <td>0</td>\n      <td>1</td>\n      <td>...</td>\n      <td>0</td>\n      <td>0</td>\n      <td>0</td>\n      <td>0</td>\n      <td>0</td>\n      <td>0</td>\n      <td>0</td>\n      <td>0</td>\n      <td>1</td>\n      <td>0</td>\n    </tr>\n    <tr>\n      <th>8</th>\n      <td>0</td>\n      <td>0</td>\n      <td>0</td>\n      <td>0</td>\n      <td>0</td>\n      <td>0</td>\n      <td>0</td>\n      <td>0</td>\n      <td>0</td>\n      <td>1</td>\n      <td>...</td>\n      <td>0</td>\n      <td>0</td>\n      <td>0</td>\n      <td>0</td>\n      <td>0</td>\n      <td>0</td>\n      <td>0</td>\n      <td>0</td>\n      <td>1</td>\n      <td>0</td>\n    </tr>\n    <tr>\n      <th>9</th>\n      <td>0</td>\n      <td>0</td>\n      <td>0</td>\n      <td>0</td>\n      <td>0</td>\n      <td>0</td>\n      <td>0</td>\n      <td>0</td>\n      <td>0</td>\n      <td>1</td>\n      <td>...</td>\n      <td>0</td>\n      <td>0</td>\n      <td>0</td>\n      <td>0</td>\n      <td>0</td>\n      <td>0</td>\n      <td>0</td>\n      <td>0</td>\n      <td>1</td>\n      <td>0</td>\n    </tr>\n    <tr>\n      <th>10</th>\n      <td>0</td>\n      <td>0</td>\n      <td>0</td>\n      <td>0</td>\n      <td>0</td>\n      <td>0</td>\n      <td>0</td>\n      <td>0</td>\n      <td>0</td>\n      <td>1</td>\n      <td>...</td>\n      <td>0</td>\n      <td>0</td>\n      <td>0</td>\n      <td>0</td>\n      <td>0</td>\n      <td>0</td>\n      <td>0</td>\n      <td>0</td>\n      <td>1</td>\n      <td>0</td>\n    </tr>\n    <tr>\n      <th>11</th>\n      <td>0</td>\n      <td>0</td>\n      <td>0</td>\n      <td>0</td>\n      <td>0</td>\n      <td>0</td>\n      <td>0</td>\n      <td>0</td>\n      <td>0</td>\n      <td>1</td>\n      <td>...</td>\n      <td>0</td>\n      <td>0</td>\n      <td>0</td>\n      <td>0</td>\n      <td>0</td>\n      <td>0</td>\n      <td>0</td>\n      <td>0</td>\n      <td>1</td>\n      <td>0</td>\n    </tr>\n    <tr>\n      <th>12</th>\n      <td>0</td>\n      <td>0</td>\n      <td>0</td>\n      <td>0</td>\n      <td>0</td>\n      <td>0</td>\n      <td>0</td>\n      <td>0</td>\n      <td>0</td>\n      <td>1</td>\n      <td>...</td>\n      <td>0</td>\n      <td>0</td>\n      <td>0</td>\n      <td>0</td>\n      <td>0</td>\n      <td>0</td>\n      <td>0</td>\n      <td>0</td>\n      <td>1</td>\n      <td>0</td>\n    </tr>\n    <tr>\n      <th>13</th>\n      <td>0</td>\n      <td>0</td>\n      <td>0</td>\n      <td>0</td>\n      <td>0</td>\n      <td>0</td>\n      <td>0</td>\n      <td>0</td>\n      <td>0</td>\n      <td>1</td>\n      <td>...</td>\n      <td>0</td>\n      <td>0</td>\n      <td>0</td>\n      <td>0</td>\n      <td>0</td>\n      <td>0</td>\n      <td>0</td>\n      <td>0</td>\n      <td>0</td>\n      <td>0</td>\n    </tr>\n    <tr>\n      <th>14</th>\n      <td>0</td>\n      <td>0</td>\n      <td>0</td>\n      <td>0</td>\n      <td>0</td>\n      <td>0</td>\n      <td>0</td>\n      <td>0</td>\n      <td>0</td>\n      <td>1</td>\n      <td>...</td>\n      <td>0</td>\n      <td>0</td>\n      <td>0</td>\n      <td>0</td>\n      <td>0</td>\n      <td>0</td>\n      <td>0</td>\n      <td>0</td>\n      <td>1</td>\n      <td>0</td>\n    </tr>\n    <tr>\n      <th>15</th>\n      <td>0</td>\n      <td>0</td>\n      <td>0</td>\n      <td>0</td>\n      <td>0</td>\n      <td>0</td>\n      <td>0</td>\n      <td>0</td>\n      <td>0</td>\n      <td>1</td>\n      <td>...</td>\n      <td>0</td>\n      <td>0</td>\n      <td>0</td>\n      <td>0</td>\n      <td>0</td>\n      <td>0</td>\n      <td>0</td>\n      <td>0</td>\n      <td>1</td>\n      <td>0</td>\n    </tr>\n    <tr>\n      <th>16</th>\n      <td>0</td>\n      <td>0</td>\n      <td>0</td>\n      <td>0</td>\n      <td>0</td>\n      <td>0</td>\n      <td>0</td>\n      <td>0</td>\n      <td>0</td>\n      <td>1</td>\n      <td>...</td>\n      <td>0</td>\n      <td>0</td>\n      <td>0</td>\n      <td>0</td>\n      <td>0</td>\n      <td>0</td>\n      <td>0</td>\n      <td>0</td>\n      <td>1</td>\n      <td>0</td>\n    </tr>\n    <tr>\n      <th>17</th>\n      <td>0</td>\n      <td>0</td>\n      <td>0</td>\n      <td>0</td>\n      <td>0</td>\n      <td>0</td>\n      <td>0</td>\n      <td>0</td>\n      <td>0</td>\n      <td>1</td>\n      <td>...</td>\n      <td>0</td>\n      <td>0</td>\n      <td>0</td>\n      <td>0</td>\n      <td>0</td>\n      <td>0</td>\n      <td>0</td>\n      <td>0</td>\n      <td>1</td>\n      <td>0</td>\n    </tr>\n    <tr>\n      <th>18</th>\n      <td>0</td>\n      <td>0</td>\n      <td>0</td>\n      <td>0</td>\n      <td>0</td>\n      <td>0</td>\n      <td>0</td>\n      <td>0</td>\n      <td>0</td>\n      <td>1</td>\n      <td>...</td>\n      <td>0</td>\n      <td>0</td>\n      <td>0</td>\n      <td>0</td>\n      <td>0</td>\n      <td>0</td>\n      <td>0</td>\n      <td>0</td>\n      <td>1</td>\n      <td>0</td>\n    </tr>\n    <tr>\n      <th>19</th>\n      <td>0</td>\n      <td>0</td>\n      <td>0</td>\n      <td>0</td>\n      <td>0</td>\n      <td>0</td>\n      <td>0</td>\n      <td>0</td>\n      <td>0</td>\n      <td>1</td>\n      <td>...</td>\n      <td>0</td>\n      <td>0</td>\n      <td>0</td>\n      <td>0</td>\n      <td>0</td>\n      <td>0</td>\n      <td>0</td>\n      <td>0</td>\n      <td>1</td>\n      <td>0</td>\n    </tr>\n  </tbody>\n</table>\n<p>20 rows × 350 columns</p>\n</div>"
     },
     "execution_count": 442,
     "metadata": {},
     "output_type": "execute_result"
    }
   ],
   "source": [
    "unlabled_prediction_df =  pd.DataFrame(unlabled_predict_test)\n",
    "unlabled_prediction_df"
   ],
   "metadata": {
    "collapsed": false,
    "pycharm": {
     "name": "#%%\n"
    }
   }
  },
  {
   "cell_type": "code",
   "execution_count": 443,
   "outputs": [],
   "source": [
    "x = np.array(unlabled_prediction_df.columns)\n",
    "majority = []\n",
    "for i in range(len(x)):\n",
    "    p = unlabled_prediction_df[x[i]].mode()\n",
    "    if len(p)==2:\n",
    "        majority.append(1)\n",
    "    else:\n",
    "        majority.append(p[0])"
   ],
   "metadata": {
    "collapsed": false,
    "pycharm": {
     "name": "#%%\n"
    }
   }
  },
  {
   "cell_type": "code",
   "execution_count": 444,
   "outputs": [
    {
     "data": {
      "text/plain": "1"
     },
     "execution_count": 444,
     "metadata": {},
     "output_type": "execute_result"
    }
   ],
   "source": [
    "majority[25]"
   ],
   "metadata": {
    "collapsed": false,
    "pycharm": {
     "name": "#%%\n"
    }
   }
  },
  {
   "cell_type": "code",
   "execution_count": 445,
   "outputs": [
    {
     "data": {
      "text/plain": "0    1\nName: 53, dtype: int64"
     },
     "execution_count": 445,
     "metadata": {},
     "output_type": "execute_result"
    }
   ],
   "source": [
    "unlabled_prediction_df[53].mode()"
   ],
   "metadata": {
    "collapsed": false,
    "pycharm": {
     "name": "#%%\n"
    }
   }
  },
  {
   "cell_type": "code",
   "execution_count": 446,
   "outputs": [],
   "source": [
    "import csv\n",
    "outfile = open('./results.csv','w')\n",
    "out = csv.writer(outfile)\n",
    "out.writerows(map(lambda x: [x], majority))\n",
    "outfile.close()"
   ],
   "metadata": {
    "collapsed": false,
    "pycharm": {
     "name": "#%%\n"
    }
   }
  },
  {
   "cell_type": "code",
   "execution_count": null,
   "outputs": [],
   "source": [],
   "metadata": {
    "collapsed": false,
    "pycharm": {
     "name": "#%%\n"
    }
   }
  }
 ],
 "metadata": {
  "kernelspec": {
   "display_name": "Python 3",
   "language": "python",
   "name": "python3"
  },
  "language_info": {
   "codemirror_mode": {
    "name": "ipython",
    "version": 2
   },
   "file_extension": ".py",
   "mimetype": "text/x-python",
   "name": "python",
   "nbconvert_exporter": "python",
   "pygments_lexer": "ipython2",
   "version": "2.7.6"
  }
 },
 "nbformat": 4,
 "nbformat_minor": 0
}